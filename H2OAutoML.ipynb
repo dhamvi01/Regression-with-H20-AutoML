{
  "nbformat": 4,
  "nbformat_minor": 0,
  "metadata": {
    "colab": {
      "name": "H2OAutoML.ipynb",
      "provenance": [],
      "collapsed_sections": [],
      "authorship_tag": "ABX9TyOAFSV2QKa7rRgcf6EIUEkz",
      "include_colab_link": true
    },
    "kernelspec": {
      "name": "python3",
      "display_name": "Python 3"
    }
  },
  "cells": [
    {
      "cell_type": "markdown",
      "metadata": {
        "id": "view-in-github",
        "colab_type": "text"
      },
      "source": [
        "<a href=\"https://colab.research.google.com/github/dhamvi01/Regression-with-H20-AutoML/blob/main/H2OAutoML.ipynb\" target=\"_parent\"><img src=\"https://colab.research.google.com/assets/colab-badge.svg\" alt=\"Open In Colab\"/></a>"
      ]
    },
    {
      "cell_type": "markdown",
      "metadata": {
        "id": "5LI5CF4aZT_p"
      },
      "source": [
        "#### 1. Import Libraries"
      ]
    },
    {
      "cell_type": "code",
      "metadata": {
        "id": "dzsBEjjWQP9Q"
      },
      "source": [
        "###!pip install h2o\n",
        "import pandas as pd\n",
        "import h2o\n",
        "from h2o.automl import H2OAutoML"
      ],
      "execution_count": 14,
      "outputs": []
    },
    {
      "cell_type": "markdown",
      "metadata": {
        "id": "l18k8DspZZ5v"
      },
      "source": [
        "#### 2. Initiate h2o instance"
      ]
    },
    {
      "cell_type": "code",
      "metadata": {
        "colab": {
          "base_uri": "https://localhost:8080/",
          "height": 526
        },
        "id": "LYjmvwGvSyWG",
        "outputId": "15dfdb65-904b-4a84-9257-c86d4f2ef8a3"
      },
      "source": [
        "h2o.init()"
      ],
      "execution_count": 4,
      "outputs": [
        {
          "output_type": "stream",
          "text": [
            "Checking whether there is an H2O instance running at http://localhost:54321 ..... not found.\n",
            "Attempting to start a local H2O server...\n",
            "  Java Version: openjdk version \"11.0.9.1\" 2020-11-04; OpenJDK Runtime Environment (build 11.0.9.1+1-Ubuntu-0ubuntu1.18.04); OpenJDK 64-Bit Server VM (build 11.0.9.1+1-Ubuntu-0ubuntu1.18.04, mixed mode, sharing)\n",
            "  Starting server from /usr/local/lib/python3.6/dist-packages/h2o/backend/bin/h2o.jar\n",
            "  Ice root: /tmp/tmpxma8_72u\n",
            "  JVM stdout: /tmp/tmpxma8_72u/h2o_unknownUser_started_from_python.out\n",
            "  JVM stderr: /tmp/tmpxma8_72u/h2o_unknownUser_started_from_python.err\n",
            "  Server is running at http://127.0.0.1:54321\n",
            "Connecting to H2O server at http://127.0.0.1:54321 ... successful.\n"
          ],
          "name": "stdout"
        },
        {
          "output_type": "display_data",
          "data": {
            "text/html": [
              "<div style=\"overflow:auto\"><table style=\"width:50%\"><tr><td>H2O_cluster_uptime:</td>\n",
              "<td>03 secs</td></tr>\n",
              "<tr><td>H2O_cluster_timezone:</td>\n",
              "<td>Etc/UTC</td></tr>\n",
              "<tr><td>H2O_data_parsing_timezone:</td>\n",
              "<td>UTC</td></tr>\n",
              "<tr><td>H2O_cluster_version:</td>\n",
              "<td>3.32.0.2</td></tr>\n",
              "<tr><td>H2O_cluster_version_age:</td>\n",
              "<td>15 days </td></tr>\n",
              "<tr><td>H2O_cluster_name:</td>\n",
              "<td>H2O_from_python_unknownUser_0wt95v</td></tr>\n",
              "<tr><td>H2O_cluster_total_nodes:</td>\n",
              "<td>1</td></tr>\n",
              "<tr><td>H2O_cluster_free_memory:</td>\n",
              "<td>3.180 Gb</td></tr>\n",
              "<tr><td>H2O_cluster_total_cores:</td>\n",
              "<td>2</td></tr>\n",
              "<tr><td>H2O_cluster_allowed_cores:</td>\n",
              "<td>2</td></tr>\n",
              "<tr><td>H2O_cluster_status:</td>\n",
              "<td>accepting new members, healthy</td></tr>\n",
              "<tr><td>H2O_connection_url:</td>\n",
              "<td>http://127.0.0.1:54321</td></tr>\n",
              "<tr><td>H2O_connection_proxy:</td>\n",
              "<td>{\"http\": null, \"https\": null}</td></tr>\n",
              "<tr><td>H2O_internal_security:</td>\n",
              "<td>False</td></tr>\n",
              "<tr><td>H2O_API_Extensions:</td>\n",
              "<td>Amazon S3, XGBoost, Algos, AutoML, Core V3, TargetEncoder, Core V4</td></tr>\n",
              "<tr><td>Python_version:</td>\n",
              "<td>3.6.9 final</td></tr></table></div>"
            ],
            "text/plain": [
              "--------------------------  ------------------------------------------------------------------\n",
              "H2O_cluster_uptime:         03 secs\n",
              "H2O_cluster_timezone:       Etc/UTC\n",
              "H2O_data_parsing_timezone:  UTC\n",
              "H2O_cluster_version:        3.32.0.2\n",
              "H2O_cluster_version_age:    15 days\n",
              "H2O_cluster_name:           H2O_from_python_unknownUser_0wt95v\n",
              "H2O_cluster_total_nodes:    1\n",
              "H2O_cluster_free_memory:    3.180 Gb\n",
              "H2O_cluster_total_cores:    2\n",
              "H2O_cluster_allowed_cores:  2\n",
              "H2O_cluster_status:         accepting new members, healthy\n",
              "H2O_connection_url:         http://127.0.0.1:54321\n",
              "H2O_connection_proxy:       {\"http\": null, \"https\": null}\n",
              "H2O_internal_security:      False\n",
              "H2O_API_Extensions:         Amazon S3, XGBoost, Algos, AutoML, Core V3, TargetEncoder, Core V4\n",
              "Python_version:             3.6.9 final\n",
              "--------------------------  ------------------------------------------------------------------"
            ]
          },
          "metadata": {
            "tags": []
          }
        }
      ]
    },
    {
      "cell_type": "markdown",
      "metadata": {
        "id": "z6P37xhGZgmf"
      },
      "source": [
        "#### 3. Import Raw data"
      ]
    },
    {
      "cell_type": "code",
      "metadata": {
        "colab": {
          "base_uri": "https://localhost:8080/"
        },
        "id": "EimqPp0tQfnV",
        "outputId": "4e874436-21b4-48a9-d719-ad968a6e178d"
      },
      "source": [
        "data = h2o.import_file('Auto.csv')"
      ],
      "execution_count": 5,
      "outputs": [
        {
          "output_type": "stream",
          "text": [
            "Parse progress: |█████████████████████████████████████████████████████████| 100%\n"
          ],
          "name": "stdout"
        }
      ]
    },
    {
      "cell_type": "code",
      "metadata": {
        "id": "1yi4k4fmVBNw"
      },
      "source": [
        "features = [\"cylinders\",\"displacement\",\"horsepower\",\"weight\",\"acceleration\",\"year\",\"origin\"]\n",
        "output = 'mpg'"
      ],
      "execution_count": 8,
      "outputs": []
    },
    {
      "cell_type": "markdown",
      "metadata": {
        "id": "L1utmi8VZnOv"
      },
      "source": [
        "#### 4. Train Test split"
      ]
    },
    {
      "cell_type": "code",
      "metadata": {
        "id": "adtkD-s7Rvm2"
      },
      "source": [
        "train, test = data.split_frame(ratios=[0.8])"
      ],
      "execution_count": 6,
      "outputs": []
    },
    {
      "cell_type": "markdown",
      "metadata": {
        "id": "zIjg7hd2ZuNX"
      },
      "source": [
        "#### 5. model building"
      ]
    },
    {
      "cell_type": "code",
      "metadata": {
        "colab": {
          "base_uri": "https://localhost:8080/"
        },
        "id": "5qwQ3diuTcKt",
        "outputId": "e29f2bb0-287c-4a94-b312-ec943a58c71b"
      },
      "source": [
        "aml = H2OAutoML(max_models = 30, max_runtime_secs=300, seed = 1)\n",
        "aml.train(x = features, y = output, training_frame = train)"
      ],
      "execution_count": 9,
      "outputs": [
        {
          "output_type": "stream",
          "text": [
            "AutoML progress: |████████████████████████████████████████████████████████| 100%\n"
          ],
          "name": "stdout"
        }
      ]
    },
    {
      "cell_type": "markdown",
      "metadata": {
        "id": "5iopml2IZ2iI"
      },
      "source": [
        "#### 6. Model leaderboard"
      ]
    },
    {
      "cell_type": "code",
      "metadata": {
        "colab": {
          "base_uri": "https://localhost:8080/",
          "height": 678
        },
        "id": "gt8_cmi8TcoE",
        "outputId": "bb368c86-6c64-4589-8ba0-6ef5ab15f707"
      },
      "source": [
        "lb = aml.leaderboard\n",
        "lb.head(rows=lb.nrows)"
      ],
      "execution_count": 10,
      "outputs": [
        {
          "output_type": "display_data",
          "data": {
            "text/html": [
              "<table>\n",
              "<thead>\n",
              "<tr><th>model_id                                           </th><th style=\"text-align: right;\">  mean_residual_deviance</th><th style=\"text-align: right;\">   rmse</th><th style=\"text-align: right;\">     mse</th><th style=\"text-align: right;\">    mae</th><th style=\"text-align: right;\">   rmsle</th></tr>\n",
              "</thead>\n",
              "<tbody>\n",
              "<tr><td>StackedEnsemble_BestOfFamily_AutoML_20201202_200738</td><td style=\"text-align: right;\">                 8.91017</td><td style=\"text-align: right;\">2.98499</td><td style=\"text-align: right;\"> 8.91017</td><td style=\"text-align: right;\">2.09133</td><td style=\"text-align: right;\">0.113771</td></tr>\n",
              "<tr><td>GBM_1_AutoML_20201202_200738                       </td><td style=\"text-align: right;\">                 9.00347</td><td style=\"text-align: right;\">3.00058</td><td style=\"text-align: right;\"> 9.00347</td><td style=\"text-align: right;\">2.09123</td><td style=\"text-align: right;\">0.112718</td></tr>\n",
              "<tr><td>XRT_1_AutoML_20201202_200738                       </td><td style=\"text-align: right;\">                 9.18529</td><td style=\"text-align: right;\">3.03072</td><td style=\"text-align: right;\"> 9.18529</td><td style=\"text-align: right;\">2.12192</td><td style=\"text-align: right;\">0.117189</td></tr>\n",
              "<tr><td>GBM_3_AutoML_20201202_200738                       </td><td style=\"text-align: right;\">                 9.19319</td><td style=\"text-align: right;\">3.03203</td><td style=\"text-align: right;\"> 9.19319</td><td style=\"text-align: right;\">2.15856</td><td style=\"text-align: right;\">0.115881</td></tr>\n",
              "<tr><td>DRF_1_AutoML_20201202_200738                       </td><td style=\"text-align: right;\">                 9.21743</td><td style=\"text-align: right;\">3.03602</td><td style=\"text-align: right;\"> 9.21743</td><td style=\"text-align: right;\">2.10179</td><td style=\"text-align: right;\">0.116251</td></tr>\n",
              "<tr><td>XGBoost_grid__1_AutoML_20201202_200738_model_6     </td><td style=\"text-align: right;\">                 9.33314</td><td style=\"text-align: right;\">3.05502</td><td style=\"text-align: right;\"> 9.33314</td><td style=\"text-align: right;\">2.19658</td><td style=\"text-align: right;\">0.121031</td></tr>\n",
              "<tr><td>GBM_2_AutoML_20201202_200738                       </td><td style=\"text-align: right;\">                 9.33863</td><td style=\"text-align: right;\">3.05592</td><td style=\"text-align: right;\"> 9.33863</td><td style=\"text-align: right;\">2.1253 </td><td style=\"text-align: right;\">0.116552</td></tr>\n",
              "<tr><td>GBM_4_AutoML_20201202_200738                       </td><td style=\"text-align: right;\">                 9.35562</td><td style=\"text-align: right;\">3.0587 </td><td style=\"text-align: right;\"> 9.35562</td><td style=\"text-align: right;\">2.15253</td><td style=\"text-align: right;\">0.116688</td></tr>\n",
              "<tr><td>GBM_grid__1_AutoML_20201202_200738_model_4         </td><td style=\"text-align: right;\">                 9.48415</td><td style=\"text-align: right;\">3.07963</td><td style=\"text-align: right;\"> 9.48415</td><td style=\"text-align: right;\">2.18617</td><td style=\"text-align: right;\">0.118738</td></tr>\n",
              "<tr><td>XGBoost_grid__1_AutoML_20201202_200738_model_7     </td><td style=\"text-align: right;\">                 9.52553</td><td style=\"text-align: right;\">3.08634</td><td style=\"text-align: right;\"> 9.52553</td><td style=\"text-align: right;\">2.20066</td><td style=\"text-align: right;\">0.120862</td></tr>\n",
              "<tr><td>XGBoost_grid__1_AutoML_20201202_200738_model_8     </td><td style=\"text-align: right;\">                 9.63541</td><td style=\"text-align: right;\">3.1041 </td><td style=\"text-align: right;\"> 9.63541</td><td style=\"text-align: right;\">2.17815</td><td style=\"text-align: right;\">0.121731</td></tr>\n",
              "<tr><td>XGBoost_grid__1_AutoML_20201202_200738_model_5     </td><td style=\"text-align: right;\">                 9.67396</td><td style=\"text-align: right;\">3.1103 </td><td style=\"text-align: right;\"> 9.67396</td><td style=\"text-align: right;\">2.23944</td><td style=\"text-align: right;\">0.121841</td></tr>\n",
              "<tr><td>XGBoost_grid__1_AutoML_20201202_200738_model_9     </td><td style=\"text-align: right;\">                 9.69159</td><td style=\"text-align: right;\">3.11313</td><td style=\"text-align: right;\"> 9.69159</td><td style=\"text-align: right;\">2.21194</td><td style=\"text-align: right;\">0.118342</td></tr>\n",
              "<tr><td>StackedEnsemble_AllModels_AutoML_20201202_200738   </td><td style=\"text-align: right;\">                 9.78262</td><td style=\"text-align: right;\">3.12772</td><td style=\"text-align: right;\"> 9.78262</td><td style=\"text-align: right;\">2.22025</td><td style=\"text-align: right;\">0.123088</td></tr>\n",
              "<tr><td>XGBoost_2_AutoML_20201202_200738                   </td><td style=\"text-align: right;\">                 9.89284</td><td style=\"text-align: right;\">3.14529</td><td style=\"text-align: right;\"> 9.89284</td><td style=\"text-align: right;\">2.20404</td><td style=\"text-align: right;\">0.121491</td></tr>\n",
              "<tr><td>XGBoost_3_AutoML_20201202_200738                   </td><td style=\"text-align: right;\">                 9.90958</td><td style=\"text-align: right;\">3.14795</td><td style=\"text-align: right;\"> 9.90958</td><td style=\"text-align: right;\">2.22927</td><td style=\"text-align: right;\">0.121788</td></tr>\n",
              "<tr><td>GBM_grid__1_AutoML_20201202_200738_model_2         </td><td style=\"text-align: right;\">                 9.94175</td><td style=\"text-align: right;\">3.15305</td><td style=\"text-align: right;\"> 9.94175</td><td style=\"text-align: right;\">2.23009</td><td style=\"text-align: right;\">0.123849</td></tr>\n",
              "<tr><td>XGBoost_grid__1_AutoML_20201202_200738_model_2     </td><td style=\"text-align: right;\">                 9.9639 </td><td style=\"text-align: right;\">3.15656</td><td style=\"text-align: right;\"> 9.9639 </td><td style=\"text-align: right;\">2.22924</td><td style=\"text-align: right;\">0.123001</td></tr>\n",
              "<tr><td>GBM_grid__1_AutoML_20201202_200738_model_3         </td><td style=\"text-align: right;\">                10.2328 </td><td style=\"text-align: right;\">3.19888</td><td style=\"text-align: right;\">10.2328 </td><td style=\"text-align: right;\">2.21047</td><td style=\"text-align: right;\">0.121146</td></tr>\n",
              "<tr><td>XGBoost_1_AutoML_20201202_200738                   </td><td style=\"text-align: right;\">                10.5535 </td><td style=\"text-align: right;\">3.24861</td><td style=\"text-align: right;\">10.5535 </td><td style=\"text-align: right;\">2.35285</td><td style=\"text-align: right;\">0.125204</td></tr>\n",
              "<tr><td>XGBoost_grid__1_AutoML_20201202_200738_model_3     </td><td style=\"text-align: right;\">                10.6287 </td><td style=\"text-align: right;\">3.26017</td><td style=\"text-align: right;\">10.6287 </td><td style=\"text-align: right;\">2.29539</td><td style=\"text-align: right;\">0.123441</td></tr>\n",
              "<tr><td>XGBoost_grid__1_AutoML_20201202_200738_model_1     </td><td style=\"text-align: right;\">                10.8861 </td><td style=\"text-align: right;\">3.2994 </td><td style=\"text-align: right;\">10.8861 </td><td style=\"text-align: right;\">2.35997</td><td style=\"text-align: right;\">0.128295</td></tr>\n",
              "<tr><td>GBM_grid__1_AutoML_20201202_200738_model_5         </td><td style=\"text-align: right;\">                11.1897 </td><td style=\"text-align: right;\">3.3451 </td><td style=\"text-align: right;\">11.1897 </td><td style=\"text-align: right;\">2.34506</td><td style=\"text-align: right;\">0.128086</td></tr>\n",
              "<tr><td>GLM_1_AutoML_20201202_200738                       </td><td style=\"text-align: right;\">                11.4761 </td><td style=\"text-align: right;\">3.38764</td><td style=\"text-align: right;\">11.4761 </td><td style=\"text-align: right;\">2.51913</td><td style=\"text-align: right;\">0.139786</td></tr>\n",
              "<tr><td>XGBoost_grid__1_AutoML_20201202_200738_model_4     </td><td style=\"text-align: right;\">                11.6236 </td><td style=\"text-align: right;\">3.40935</td><td style=\"text-align: right;\">11.6236 </td><td style=\"text-align: right;\">2.33895</td><td style=\"text-align: right;\">0.131592</td></tr>\n",
              "<tr><td>DeepLearning_1_AutoML_20201202_200738              </td><td style=\"text-align: right;\">                12.4488 </td><td style=\"text-align: right;\">3.52829</td><td style=\"text-align: right;\">12.4488 </td><td style=\"text-align: right;\">2.49319</td><td style=\"text-align: right;\">0.133857</td></tr>\n",
              "<tr><td>GBM_5_AutoML_20201202_200738                       </td><td style=\"text-align: right;\">                13.2467 </td><td style=\"text-align: right;\">3.6396 </td><td style=\"text-align: right;\">13.2467 </td><td style=\"text-align: right;\">2.73557</td><td style=\"text-align: right;\">0.145182</td></tr>\n",
              "<tr><td>GBM_grid__1_AutoML_20201202_200738_model_1         </td><td style=\"text-align: right;\">                13.9156 </td><td style=\"text-align: right;\">3.73036</td><td style=\"text-align: right;\">13.9156 </td><td style=\"text-align: right;\">2.76214</td><td style=\"text-align: right;\">0.147247</td></tr>\n",
              "<tr><td>DeepLearning_grid__1_AutoML_20201202_200738_model_1</td><td style=\"text-align: right;\">                15.0226 </td><td style=\"text-align: right;\">3.87589</td><td style=\"text-align: right;\">15.0226 </td><td style=\"text-align: right;\">2.69738</td><td style=\"text-align: right;\">0.140874</td></tr>\n",
              "<tr><td>DeepLearning_grid__1_AutoML_20201202_200738_model_2</td><td style=\"text-align: right;\">                15.6261 </td><td style=\"text-align: right;\">3.95299</td><td style=\"text-align: right;\">15.6261 </td><td style=\"text-align: right;\">2.81656</td><td style=\"text-align: right;\">0.14942 </td></tr>\n",
              "<tr><td>DeepLearning_grid__3_AutoML_20201202_200738_model_1</td><td style=\"text-align: right;\">                23.0282 </td><td style=\"text-align: right;\">4.79877</td><td style=\"text-align: right;\">23.0282 </td><td style=\"text-align: right;\">3.84965</td><td style=\"text-align: right;\">0.216747</td></tr>\n",
              "<tr><td>DeepLearning_grid__2_AutoML_20201202_200738_model_1</td><td style=\"text-align: right;\">                27.2647 </td><td style=\"text-align: right;\">5.22156</td><td style=\"text-align: right;\">27.2647 </td><td style=\"text-align: right;\">4.22437</td><td style=\"text-align: right;\">0.224846</td></tr>\n",
              "</tbody>\n",
              "</table>"
            ]
          },
          "metadata": {
            "tags": []
          }
        },
        {
          "output_type": "execute_result",
          "data": {
            "text/plain": [
              ""
            ]
          },
          "metadata": {
            "tags": []
          },
          "execution_count": 10
        }
      ]
    },
    {
      "cell_type": "markdown",
      "metadata": {
        "id": "BJLFeC3pZ9bL"
      },
      "source": [
        "#### 7. Predicted Values"
      ]
    },
    {
      "cell_type": "code",
      "metadata": {
        "colab": {
          "base_uri": "https://localhost:8080/"
        },
        "id": "YswNPYjxTqVz",
        "outputId": "ec3f604a-e8c9-40b2-8e53-99b63c4a4a53"
      },
      "source": [
        "preds = aml.predict(test)"
      ],
      "execution_count": 11,
      "outputs": [
        {
          "output_type": "stream",
          "text": [
            "stackedensemble prediction progress: |████████████████████████████████████| 100%\n"
          ],
          "name": "stdout"
        }
      ]
    },
    {
      "cell_type": "code",
      "metadata": {
        "id": "w3vwwqBJbLat",
        "colab": {
          "base_uri": "https://localhost:8080/",
          "height": 238
        },
        "outputId": "c8ce7067-0c80-4d58-efa8-4c3ce6541613"
      },
      "source": [
        "preds"
      ],
      "execution_count": 12,
      "outputs": [
        {
          "output_type": "display_data",
          "data": {
            "text/html": [
              "<table>\n",
              "<thead>\n",
              "<tr><th style=\"text-align: right;\">  predict</th></tr>\n",
              "</thead>\n",
              "<tbody>\n",
              "<tr><td style=\"text-align: right;\">  12.9296</td></tr>\n",
              "<tr><td style=\"text-align: right;\">  26.9699</td></tr>\n",
              "<tr><td style=\"text-align: right;\">  17.9684</td></tr>\n",
              "<tr><td style=\"text-align: right;\">  12.4521</td></tr>\n",
              "<tr><td style=\"text-align: right;\">  11.1893</td></tr>\n",
              "<tr><td style=\"text-align: right;\">  18.5697</td></tr>\n",
              "<tr><td style=\"text-align: right;\">  25.4615</td></tr>\n",
              "<tr><td style=\"text-align: right;\">  26.9462</td></tr>\n",
              "<tr><td style=\"text-align: right;\">  26.9721</td></tr>\n",
              "<tr><td style=\"text-align: right;\">  23.6961</td></tr>\n",
              "</tbody>\n",
              "</table>"
            ]
          },
          "metadata": {
            "tags": []
          }
        },
        {
          "output_type": "execute_result",
          "data": {
            "text/plain": [
              ""
            ]
          },
          "metadata": {
            "tags": []
          },
          "execution_count": 12
        }
      ]
    },
    {
      "cell_type": "code",
      "metadata": {
        "colab": {
          "base_uri": "https://localhost:8080/",
          "height": 78
        },
        "id": "CvQAZt2AT3ND",
        "outputId": "91d43f26-d885-4b4d-f0b8-1172c0d05c4b"
      },
      "source": [
        "df = test.cbind(preds)\n",
        "df.head(2)"
      ],
      "execution_count": 13,
      "outputs": [
        {
          "output_type": "display_data",
          "data": {
            "text/html": [
              "<table>\n",
              "<thead>\n",
              "<tr><th style=\"text-align: right;\">  cylinders</th><th style=\"text-align: right;\">  displacement</th><th style=\"text-align: right;\">  horsepower</th><th style=\"text-align: right;\">  weight</th><th style=\"text-align: right;\">  acceleration</th><th style=\"text-align: right;\">  year</th><th style=\"text-align: right;\">  origin</th><th style=\"text-align: right;\">  mpg</th><th style=\"text-align: right;\">  predict</th></tr>\n",
              "</thead>\n",
              "<tbody>\n",
              "<tr><td style=\"text-align: right;\">          8</td><td style=\"text-align: right;\">           429</td><td style=\"text-align: right;\">         198</td><td style=\"text-align: right;\">    4341</td><td style=\"text-align: right;\">          10  </td><td style=\"text-align: right;\">    70</td><td style=\"text-align: right;\">       1</td><td style=\"text-align: right;\">   15</td><td style=\"text-align: right;\">  12.9296</td></tr>\n",
              "<tr><td style=\"text-align: right;\">          4</td><td style=\"text-align: right;\">            97</td><td style=\"text-align: right;\">          88</td><td style=\"text-align: right;\">    2130</td><td style=\"text-align: right;\">          14.5</td><td style=\"text-align: right;\">    70</td><td style=\"text-align: right;\">       3</td><td style=\"text-align: right;\">   27</td><td style=\"text-align: right;\">  26.9699</td></tr>\n",
              "</tbody>\n",
              "</table>"
            ]
          },
          "metadata": {
            "tags": []
          }
        },
        {
          "output_type": "execute_result",
          "data": {
            "text/plain": [
              ""
            ]
          },
          "metadata": {
            "tags": []
          },
          "execution_count": 13
        }
      ]
    },
    {
      "cell_type": "code",
      "metadata": {
        "colab": {
          "base_uri": "https://localhost:8080/"
        },
        "id": "d_-5U9nLT9qL",
        "outputId": "36ecfed5-16fd-4902-9079-9d3a0b41b9d8"
      },
      "source": [
        "h2o.export_file(df,'Predicted.csv')"
      ],
      "execution_count": null,
      "outputs": [
        {
          "output_type": "stream",
          "text": [
            "Export File progress: |███████████████████████████████████████████████████| 100%\n"
          ],
          "name": "stdout"
        }
      ]
    },
    {
      "cell_type": "code",
      "metadata": {
        "id": "5m1CslwsWTVs"
      },
      "source": [
        ""
      ],
      "execution_count": null,
      "outputs": []
    }
  ]
}